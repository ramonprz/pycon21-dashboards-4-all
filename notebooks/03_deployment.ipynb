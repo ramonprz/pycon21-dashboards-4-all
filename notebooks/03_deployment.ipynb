{
 "cells": [
  {
   "cell_type": "markdown",
   "id": "widespread-trustee",
   "metadata": {},
   "source": [
    "# 03 Deploying Dashboards"
   ]
  },
  {
   "cell_type": "markdown",
   "id": "greek-reducing",
   "metadata": {},
   "source": [
    "![img](https://external-content.duckduckgo.com/iu/?u=https%3A%2F%2Fstackify.com%2Fwp-content%2Fuploads%2F2018%2F01%2Fword-image-5-793x397.png&f=1&nofb=1)"
   ]
  },
  {
   "cell_type": "markdown",
   "id": "threaded-species",
   "metadata": {
    "tags": []
   },
   "source": [
    "## Sharing Dashboards"
   ]
  },
  {
   "cell_type": "markdown",
   "id": "attended-statistics",
   "metadata": {},
   "source": [
    "The first option is the one we have seen so far, creating an HTML file and viewing a static version of the dashboard in the the browser.\n",
    "\n",
    "```python\n",
    "import some_package\n",
    "\n",
    "your_data = read_some.data\n",
    "\n",
    "my_dashbboard_app():\n",
    "    \n",
    "    create_a_dashboard\n",
    "    \n",
    "    return a_dashboard\n",
    "\n",
    "dashboard.save('your_dashboard_name.html')\n",
    "\n",
    "```\n",
    "The second options is share them from your computer within a network, say, a dashboard hosted in your computer but only visible to those who share the same network as you at work. For this second option you would need to\n",
    "\n",
    "1. Have either a `.py` or a `.ipynb` file containing\n",
    "2. Your dashboard with the method `.servable()` attached to e.g. `dashboard.servable()`\n",
    "3. Have the data within that folder if your program is reading data localy\n",
    "4. Run the command panel `hostname -I` on Linux or `ipconfig getifaddr en0` and select the address e.g. 180.175.0.135\n",
    "5. From the command line run `panel serve --address 0.0.0.0 --allow-websocket-origin=180.175.0.135:5006 your_dashboard.ipynb` and you should be good to go\n",
    "6. Anyone with the address you would be given would be able to go and see your dashbaorad. e.g. `http://0.0.0.0:5006/02_analysis_prep`\n",
    "\n",
    "Note: you should use this second method carefully as with it you are opening your computer to the world\n",
    "\n",
    "To only run the app and examine it, you can use `panel serve your_dashboard.ipynb`\n",
    "\n",
    "Now, what if you want to leave a python script with your app running for a while but not on your computer but rather the web? Then you take your environment, code, and data, spin up a computer on the cloud with, depending on the size, at least 1 core (like a t2 micro from AWS) and a few gigs of ram. Let's walk through the steps\n",
    "\n",
    "1. Go to a cloud provider and start up a virtual machine. Ubuntu would be a great choice to start\n",
    "2. Connect to the VM and check the system for updates and upgrades and then install anaconda\n",
    "\n",
    "```sh\n",
    "sudo apt-get update\n",
    "sudo apt-get upgrade\n",
    "\n",
    "# this will download anaconda\n",
    "weget https://repo.anaconda.com/archive/Anaconda3-2020.11-Linux-x86_64.sh\n",
    "\n",
    "# run the installation\n",
    "bash Anaconda3-2020.11-Linux-x86_64.sh\n",
    "\n",
    "#initialize anaconda\n",
    "source /.bashrc\n",
    "\n",
    "```\n",
    "\n",
    "3. The next step is to clone the repository where your project and files live\n",
    "\n",
    "```sh\n",
    "git clone httmps://some_repository_of_code.com\n",
    "```\n",
    "\n",
    "4. Initialize the environment\n",
    "5. Get the data into your VM. You can do this either through the command line interface of your cloud provider or through secure copy protocol, e.g.\n",
    "\n",
    "```sh\n",
    "scp -P 22 your/file/txt user@remote.host:/your/path/to/file\n",
    "```\n",
    "\n",
    "6. Run the same panel command from above but this time with an `&` at the end. With AWS, FOR example, it would look like this \n",
    "```sh\n",
    "panel serve --address 0.0.0.0 --allow-websocket-origin=180.175.0.135:5006 your_dashboard.ipyn &\n",
    "```\n",
    "7. After running the command, it will take a few seconds to load but afterwards, you will receive a number for the running process, e.g. 16639 and that is what you would use to stop the process when you log back in.\n",
    "8. You can now log out and you app will continue running.\n",
    "\n",
    "Note, it is possible to that your process will stop at any given point and not restart, in order to avoid this, you would have to add your process to `systemd`. That is out of scope of the tutorial.\n",
    "\n",
    "\n",
    "Let's try it out with our interactive dashboards. Make a copy and/or move the datasets to the deployment folder."
   ]
  }
 ],
 "metadata": {
  "kernelspec": {
   "display_name": "Python 3",
   "language": "python",
   "name": "python3"
  },
  "language_info": {
   "codemirror_mode": {
    "name": "ipython",
    "version": 3
   },
   "file_extension": ".py",
   "mimetype": "text/x-python",
   "name": "python",
   "nbconvert_exporter": "python",
   "pygments_lexer": "ipython3",
   "version": "3.9.2"
  }
 },
 "nbformat": 4,
 "nbformat_minor": 5
}
