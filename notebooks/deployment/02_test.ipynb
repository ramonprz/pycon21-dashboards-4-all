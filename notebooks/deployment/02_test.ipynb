{
 "cells": [
  {
   "cell_type": "markdown",
   "id": "aggressive-ontario",
   "metadata": {},
   "source": [
    "# 02 Interactive Dashboards"
   ]
  },
  {
   "cell_type": "code",
   "execution_count": null,
   "id": "subjective-noise",
   "metadata": {},
   "outputs": [],
   "source": [
    "import pandas as pd, numpy as np, os\n",
    "import matplotlib.pyplot as plt\n",
    "import holoviews as hv, panel as pn\n",
    "from holoviews import dim, opts\n",
    "import geopandas as gpd, geoviews as gv\n",
    "from holoviews.element import tiles\n",
    "import IPython\n",
    "\n",
    "hv.extension('bokeh', 'matplotlib')\n",
    "\n",
    "pn.extension()\n",
    "\n",
    "pd.options.display.max_columns = None\n",
    "pd.options.display.max_rows = None\n",
    "pd.options.display.float_format = '{:.2f}'.format"
   ]
  },
  {
   "cell_type": "markdown",
   "id": "restricted-plant",
   "metadata": {},
   "source": [
    "### The Airbnb Data"
   ]
  },
  {
   "cell_type": "code",
   "execution_count": null,
   "id": "sexual-quilt",
   "metadata": {},
   "outputs": [],
   "source": [
    "df = pd.read_parquet(\"sydney_airbnb.parquet\")"
   ]
  },
  {
   "cell_type": "markdown",
   "id": "tender-jason",
   "metadata": {},
   "source": [
    "### The GeoDataFrame"
   ]
  },
  {
   "cell_type": "code",
   "execution_count": null,
   "id": "suburban-neutral",
   "metadata": {},
   "outputs": [],
   "source": [
    "subs_geo = gpd.read_file(\"neighbourhoods.geojson\")"
   ]
  },
  {
   "cell_type": "code",
   "execution_count": null,
   "id": "oriented-cleaning",
   "metadata": {},
   "outputs": [],
   "source": [
    "property_types = list(df['property_type'].unique())\n",
    "p_type = pn.widgets.Select(value='Apartment', options=property_types)\n",
    "\n",
    "revs_mask = df['number_of_reviews'] > 0\n",
    "def get_nps(x):\n",
    "    if x >= 90:\n",
    "        return \"Excellent\"\n",
    "    elif x >= 70:\n",
    "        return \"Okay\"\n",
    "    else:\n",
    "        return \"No Bueno\"\n",
    "\n",
    "    \n",
    "df['nps'] = 'None'\n",
    "df.loc[revs_mask, 'nps'] = df.loc[revs_mask, 'review_scores_rating'].apply(get_nps)\n",
    "\n",
    "nps_vals = list(df.nps.unique())\n",
    "nps_vals.remove('None')\n",
    "\n",
    "\n",
    "nps = pn.widgets.Select(value='Excellent', options=nps_vals)\n"
   ]
  },
  {
   "cell_type": "markdown",
   "id": "embedded-guide",
   "metadata": {},
   "source": [
    "## The Map"
   ]
  },
  {
   "cell_type": "code",
   "execution_count": null,
   "id": "eligible-frame",
   "metadata": {},
   "outputs": [],
   "source": [
    "pn.depends(p_type.param.value)\n",
    "def get_map(p_type, **kwargs):\n",
    "    \n",
    "    data = df[df['property_type'] == p_type].copy()\n",
    "    data_group = data.groupby('neighbourhood_cleansed')['min_price_per_stay'].median().reset_index()\n",
    "    data_merged = (data_group.merge(subs_geo[['neighbourhood', 'geometry']], left_on='neighbourhood_cleansed', right_on='neighbourhood')\n",
    "                             .drop('neighbourhood', axis=1)\n",
    "                             .rename(columns={'neighbourhood_cleansed': \"Suburb\"}))\n",
    "    \n",
    "    geo_data = gpd.GeoDataFrame(data_merged)\n",
    "    \n",
    "    fig = gv.Polygons(geo_data, vdims=['Suburb', 'min_price_per_stay']).opts(tools=['hover'], width=500, height=400, \n",
    "                                                                        color='min_price_per_stay', cmap='viridis_r',colorbar=True, \n",
    "                                                                        toolbar='above', xaxis=None, yaxis=None, color_levels=20)\n",
    "    \n",
    "    \n",
    "    return (tiles.CartoLight() * fig).relabel(label=f'Median Listing Price per {p_type}')\n"
   ]
  },
  {
   "cell_type": "markdown",
   "id": "psychological-daily",
   "metadata": {},
   "source": [
    "## The Table"
   ]
  },
  {
   "cell_type": "code",
   "execution_count": null,
   "id": "patient-creativity",
   "metadata": {},
   "outputs": [],
   "source": [
    "reviews = ['review_scores_checkin', 'review_scores_cleanliness', 'review_scores_accuracy', \n",
    "           'review_scores_location', 'review_scores_communication', 'review_scores_value']\n",
    "new_names = ['Checkin', 'Cleanliness', 'Accuracy', 'Location', 'Communication', 'Value']\n",
    "\n",
    "names_dict = {old:new for old, new in zip(reviews, new_names)}\n",
    "\n",
    "\n",
    "@pn.depends(p_type.param.value)\n",
    "def get_rev_table(p_type, **kwargs):\n",
    "    \n",
    "    p_mask = df['property_type'] == p_type\n",
    "    revs_mask = df['number_of_reviews'] > 0\n",
    "    \n",
    "    data = df[p_mask & revs_mask].copy()\n",
    "    \n",
    "    data.rename(names_dict, axis=1, inplace=True)\n",
    "    \n",
    "    data_group = data[new_names].mean().to_frame(name='vals').reset_index()\n",
    "    data_group.columns = ['Reviews', 'Average Score']\n",
    "    \n",
    "    table = hv.Table(data_group).opts(width=250, height=180, bgcolor='red')\n",
    "    \n",
    "    return table\n"
   ]
  },
  {
   "cell_type": "markdown",
   "id": "southwest-puppy",
   "metadata": {},
   "source": [
    "## The Box W"
   ]
  },
  {
   "cell_type": "code",
   "execution_count": null,
   "id": "thick-nightmare",
   "metadata": {},
   "outputs": [],
   "source": [
    "@pn.depends(nps.param.value)\n",
    "def cat_whisker(nps, **kwargs):\n",
    "    \n",
    "    nps_mask = df['nps'] == nps\n",
    "    budget = df['two_weeks_price'] < 2000\n",
    "    \n",
    "    data = df.loc[nps_mask & budget, ['property_type', 'two_weeks_price']].copy()\n",
    "    \n",
    "    label = f\"(2-Week Stay) Price Range per Property Type with {nps} Reviews\"\n",
    "    \n",
    "    boxw = hv.BoxWhisker(data, 'property_type', 'two_weeks_price', label=label)\n",
    "    \n",
    "    return boxw.opts(box_fill_color='#D5E051', box_line_color='#5F6062', width=600, height=250, box_line_width=1,\n",
    "                     whisker_color='#FFFFFF', xrotation=25, bgcolor='#5F6062', labelled=[], outlier_color='#FFFFFF')"
   ]
  },
  {
   "cell_type": "markdown",
   "id": "super-classic",
   "metadata": {},
   "source": [
    "## The Dots"
   ]
  },
  {
   "cell_type": "code",
   "execution_count": null,
   "id": "going-trailer",
   "metadata": {},
   "outputs": [],
   "source": [
    "@pn.depends(p_type.param.value, nps.param.value)\n",
    "def my_dots(p_type, nps, **kwargs):\n",
    "    \n",
    "    nps_mask = df['nps'] == nps\n",
    "    p_mask = df['property_type'] == p_type\n",
    "    revs_mask = df['number_of_reviews'] > 0\n",
    "    \n",
    "    data = df[nps_mask & p_mask & revs_mask].copy()\n",
    "    group = data.groupby(['neighbourhood_cleansed', 'host_is_superhost'])['number_of_reviews'].mean().reset_index()\n",
    "    \n",
    "    superh = group[group['host_is_superhost'] == 't']\n",
    "    regularh = group[group['host_is_superhost'] == 'f']\n",
    "    \n",
    "    dots1 = hv.Scatter(superh, 'neighbourhood_cleansed', 'number_of_reviews', label='Super Hosts').sort('number_of_reviews').opts(color='#D5E051', width=500, show_grid=True,\n",
    "                                                                                height=400, invert_axes=True, size=7, tools=['hover'],\n",
    "                                                                                legend_position='bottom_right', toolbar='right',\n",
    "                                                                                labelled=[], title=\"Average # of Reviews per Suburb\")\n",
    "    dots2 = hv.Scatter(regularh, 'neighbourhood_cleansed', 'number_of_reviews', label='Regular Hosts').opts(size=7, color='#FFFFFF')\n",
    "    \n",
    "    return (dots1 * dots2)"
   ]
  },
  {
   "cell_type": "markdown",
   "id": "fiscal-ceiling",
   "metadata": {},
   "source": [
    "## The BANs"
   ]
  },
  {
   "cell_type": "code",
   "execution_count": null,
   "id": "intensive-quick",
   "metadata": {},
   "outputs": [],
   "source": [
    "@pn.depends(p_type.param.value)\n",
    "def bans(p_type):\n",
    "    \n",
    "    g_opts = dict(default_color='#FFFFFF', align='start', # the global options that fit our 3 BANS\n",
    "                  font_size='13pt', title_size='13pt')\n",
    "    \n",
    "    p_mask = df['property_type'] == p_type\n",
    "    \n",
    "    data = df[p_mask].copy()\n",
    "    \n",
    "    # the BANs will need a sum a count and a mean \n",
    "    listings = p_mask.sum() \n",
    "    super_host = data.groupby('host_is_superhost')['host_is_superhost'].count().loc['t']\n",
    "    avg_price = data['price'].mean()\n",
    "    \n",
    "    # the title will change depending on the property type\n",
    "    main_title = pn.pane.Markdown(f\"# {p_type}\", style={'color':'#FFFFFF'})\n",
    "    \n",
    "    ban1 = pn.indicators.Number(name=\"Listings\", value=listings, **g_opts, format='{value:,.0f}')\n",
    "    ban2 = pn.indicators.Number(name=\"Super Hosts\", value=super_host, **g_opts, format='{value:,.0f}')\n",
    "    ban3 = pn.indicators.Number(name=\"Avg Price/Night\", value=avg_price, **g_opts, format='${value:,.0f}')\n",
    "    \n",
    "    return pn.Column(main_title, pn.Row(ban1, ban2, ban3, align='start'), align='start', height=80, width=150)"
   ]
  },
  {
   "cell_type": "markdown",
   "id": "valid-establishment",
   "metadata": {},
   "source": [
    "## The Title"
   ]
  },
  {
   "cell_type": "code",
   "execution_count": null,
   "id": "apart-qatar",
   "metadata": {},
   "outputs": [],
   "source": [
    "title = pn.Row(\n",
    "    pn.pane.Markdown(f\"# Airbnb Listings Analysis in Sydney\", \n",
    "                     style={\"color\": \"#FFFFFF\"}, width=500, height=50,\n",
    "                     sizing_mode=\"stretch_width\", margin=(0,0,0,5)), \n",
    "    pn.Spacer(),\n",
    "    pn.pane.PNG(\"https://i.pinimg.com/originals/a3/cd/30/a3cd30c0ba0e7f827dfe22e7a7011cd8.gif\", height=50, sizing_mode=\"fixed\", align=\"center\"),\n",
    "    pn.pane.PNG(\"https://e7.pngegg.com/pngimages/388/581/png-clipart-sydney-opera-house-city-of-sydney-cartoon-illustration-sydney-opera-house-creative-cartoon-cartoon-character-angle.png\", height=50, sizing_mode=\"fixed\", align=\"center\"),\n",
    "    background=\"#5F6062\", sizing_mode='fixed', height=250, width=1050\n",
    ")\n"
   ]
  },
  {
   "cell_type": "markdown",
   "id": "quarterly-evans",
   "metadata": {},
   "source": [
    "## The Dashboard"
   ]
  },
  {
   "cell_type": "code",
   "execution_count": null,
   "id": "intense-brazil",
   "metadata": {},
   "outputs": [],
   "source": [
    "c1  = pn.Column(bans, pn.Spacer(height=20), get_rev_table, width=250, height=290)\n",
    "\n",
    "c2 = pn.Column(pn.Row(p_type, nps, align='center'), cat_whisker, height=290, align='center')\n",
    "\n",
    "r1 = pn.Row(c1, pn.Spacer(width=100), c2, sizing_mode='fixed', align='center', width=1000, height=350)\n",
    "\n",
    "r2 = pn.Row(my_dots, get_map, align='center', sizing_mode='fixed', width=1100, height=420)\n",
    "\n",
    "dashboard = pn.Column(title, r1, r2, background='#5F6062', sizing_mode='fixed', \n",
    "          align='center', height=800, width=1050)\n",
    "\n",
    "from bokeh.themes.theme import Theme\n",
    "\n",
    "theme = Theme(\n",
    "    json={\n",
    "    'attrs' : {\n",
    "        'Figure' : {\n",
    "            'background_fill_color': '#5F6062',\n",
    "            'border_fill_color': '#5F6062',\n",
    "            'outline_line_color': '#5F6062',\n",
    "        },\n",
    "        'Grid': {\n",
    "            'grid_line_dash': [6, 4],\n",
    "            'grid_line_alpha': .3,\n",
    "        },\n",
    "\n",
    "        'Axis': {\n",
    "            'major_label_text_color': '#D5E051',\n",
    "            'axis_label_text_color': '#D5E051',\n",
    "            'major_tick_line_color': '#D5E051',\n",
    "            'minor_tick_line_color': '#D5E051',\n",
    "            'axis_line_color': \"#D5E051\"\n",
    "        },\n",
    "        'Title': {\n",
    "            'text_color': '#FFFFFF'\n",
    "        }\n",
    "    }\n",
    "})\n",
    "\n",
    "hv.renderer('bokeh').theme = theme\n",
    "\n",
    "# dashboard.show(threaded=True)\n",
    "\n",
    "dashboard.servable(\"My_Dashboard\")"
   ]
  }
 ],
 "metadata": {
  "kernelspec": {
   "display_name": "Python 3",
   "language": "python",
   "name": "python3"
  },
  "language_info": {
   "codemirror_mode": {
    "name": "ipython",
    "version": 3
   },
   "file_extension": ".py",
   "mimetype": "text/x-python",
   "name": "python",
   "nbconvert_exporter": "python",
   "pygments_lexer": "ipython3",
   "version": "3.9.2"
  }
 },
 "nbformat": 4,
 "nbformat_minor": 5
}
